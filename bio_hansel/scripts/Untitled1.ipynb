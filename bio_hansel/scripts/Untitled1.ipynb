{
 "cells": [
  {
   "cell_type": "code",
   "execution_count": 2,
   "metadata": {},
   "outputs": [
    {
     "name": "stdout",
     "output_type": "stream",
     "text": [
      "hello there\n",
      "Distance:\n",
      "[[0.  0.3 0.9 1. ]\n",
      " [0.3 0.  1.  1.1]\n",
      " [0.9 1.  0.  0.7]\n",
      " [1.  1.1 0.7 0. ]]\n",
      "Linkage from scipy:\n",
      "[[0.  1.  0.3 2. ]\n",
      " [2.  3.  0.7 2. ]\n",
      " [4.  5.  1.  4. ]]\n",
      "My link:\n",
      "[[0.  1.  0.3 2. ]\n",
      " [2.  3.  0.7 2. ]\n",
      " [4.  5.  1.  4. ]]\n",
      "Did it right?:  [[ True  True False  True]\n",
      " [ True  True  True  True]\n",
      " [ True  True  True  True]]\n"
     ]
    },
    {
     "data": {
      "text/plain": [
       "<matplotlib.figure.Figure at 0x7f22f8ba4320>"
      ]
     },
     "metadata": {},
     "output_type": "display_data"
    }
   ],
   "source": [
    "import sys\n",
    "import scipy\n",
    "from sklearn.cluster import AgglomerativeClustering\n",
    "import os\n",
    "from ete3 import ClusterTree, TreeStyle\n",
    "import scipy.cluster.hierarchy as sch\n",
    "import scipy.spatial.distance\n",
    "import matplotlib.pyplot as plt\n",
    "import numpy as np\n",
    "import ipwidgets\n",
    "from itertools import combinations\n",
    "\n",
    "def getClusters():\n",
    "        homedirectory=os.path.expanduser(\"~\")\n",
    "    # tree_file=f\"{homedirectory}/ecoli-genomes/e-coliO157-tree_file.tree\"\n",
    "    # with open(tree_file, 'r') as file:\n",
    "        tree = ClusterTree('(A:0.1,B:0.2,(C:0.3,D:0.4):0.5);')\n",
    "        print('hello there')\n",
    "        # tree=file.read().replace('\\n', '')\n",
    "        leaves = tree.get_leaf_names()\n",
    "        ts = TreeStyle()\n",
    "        ts.show_leaf_name=True\n",
    "        ts.show_branch_length=True\n",
    "        ts.show_branch_support=True\n",
    "\n",
    "        idx_dict = {'A':0,'B':1,'C':2,'D':3}\n",
    "        values=list(idx_dict.values())\n",
    "        keys=list(idx_dict.keys())\n",
    "        idx_labels = [keys[values[i]] for i in range(0, len(idx_dict))]\n",
    "\n",
    "        #just going through the construction in my head, this is what we should get in the end\n",
    "        my_link = [[0,1,0.3,2],\n",
    "                [2,3,0.7,2],\n",
    "                [4,5,1.0,4]]\n",
    "\n",
    "        my_link = np.array(my_link)\n",
    "\n",
    "\n",
    "        dmat = np.zeros((4,4))\n",
    "\n",
    "        for l1,l2 in combinations(leaves,2):\n",
    "            d = tree.get_distance(l1,l2)\n",
    "            dmat[idx_dict[l1],idx_dict[l2]] = dmat[idx_dict[l2],idx_dict[l1]] = d\n",
    "\n",
    "        print ('Distance:')\n",
    "        print (dmat)\n",
    "\n",
    "\n",
    "        schlink = sch.linkage(scipy.spatial.distance.squareform(dmat),method='average',metric='euclidean')\n",
    "\n",
    "        print ('Linkage from scipy:')\n",
    "        print (schlink)\n",
    "\n",
    "        print ('My link:')\n",
    "        print (my_link)\n",
    "\n",
    "        print ('Did it right?: ', schlink == my_link)\n",
    "\n",
    "        dendro = sch.dendrogram(my_link,labels=idx_labels)\n",
    "        plt.show()\n",
    "\n",
    "        tree.show(tree_style=ts)\n",
    "            \n",
    "\n",
    "if __name__ == '__main__':\n",
    "            getClusters()"
   ]
  },
  {
   "cell_type": "code",
   "execution_count": null,
   "metadata": {},
   "outputs": [],
   "source": []
  }
 ],
 "metadata": {
  "kernelspec": {
   "display_name": "Python 3",
   "language": "python",
   "name": "python3"
  },
  "language_info": {
   "codemirror_mode": {
    "name": "ipython",
    "version": 3
   },
   "file_extension": ".py",
   "mimetype": "text/x-python",
   "name": "python",
   "nbconvert_exporter": "python",
   "pygments_lexer": "ipython3",
   "version": "3.6.4"
  }
 },
 "nbformat": 4,
 "nbformat_minor": 2
}
